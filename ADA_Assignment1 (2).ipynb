{
 "cells": [
  {
   "cell_type": "markdown",
   "id": "d9e90bac",
   "metadata": {},
   "source": [
    "# Advanced Data Analysis 2023/24 - assignment 1\n",
    "\n",
    "**NAME:**\n",
    "\n",
    "**NUMBER:**\n",
    "\n",
    "This notebook contains the **Assignment 1** of the Advanced Data Analysis course.\n",
    "\n",
    "The topic of the assignment consists in performing multiple analysis on information about Olympic games. \n",
    "\n",
    "\n",
    "The data in the dataset provided was obtained from Kaggle.\n",
    "\n",
    "\n",
    "### DEADLINE: 29-September-2023\n",
    "\n",
    "The assignment is **individual**. You should submit your resolution on Moodle by the deadline. \n",
    "\n",
    "Students have **three grace days** that they can use for all assignments and group project, which allows them to deliver the projects late. Use these grace days carefully.\n",
    "\n",
    "[//]: # (We will be using latex for fomulas)\n",
    "\n",
    "<script type=\"text/javascript\"\n",
    "        src=\"https://cdnjs.cloudflare.com/ajax/libs/mathjax/2.7.0/MathJax.js?config=TeX-AMS_CHTML\"></script>\n"
   ]
  },
  {
   "cell_type": "markdown",
   "id": "dda26fd3",
   "metadata": {},
   "source": [
    "### Preliminaries\n",
    "\n",
    "Just import the libraries that will be needed throughout the assignment."
   ]
  },
  {
   "cell_type": "code",
   "execution_count": 16,
   "id": "69621cc6",
   "metadata": {},
   "outputs": [],
   "source": [
    "# imports pandas\n",
    "import pandas as pd\n",
    "\n",
    "import os\n",
    "\n",
    "import matplotlib.pyplot as plt\n"
   ]
  },
  {
   "cell_type": "markdown",
   "id": "8f7c9f20",
   "metadata": {},
   "source": [
    "## Datasets\n",
    "\n",
    "For solving the questions posed, you have the following datasets available.\n",
    "\n",
    "### Olympic Games Data\n",
    "\n",
    "Data from the Olympic Games, for the period considered, were collected for each individual athlete in a given Olympic event (or race) and recorded in the file `athlete_events.csv`. For example, the following entry is for the first gold medal won by a Portuguese woman:\n",
    "\n",
    "| |ID |Name |Sex |Age |Height |Weight |Team |NOC |Games |Year |Season |City |Sport |Event |Medal|\n",
    "|---|---|-------|-------|-------|-------|-------|- ------|-------|-------|-------|-------|-------|--- ----|-----------|-----|\n",
    "|164334 |82494 |Rosa Mara Correia dos Santos Mota |F |30 |157 |45 |Portugal |POR |1988 Summer |1988 |Summer |Seoul |Athletics |Athletics Women's Marathon |Gold|\n",
    "\n",
    "The file structure is illustrated in the figure below:\n",
    "\n",
    "![Olympic data](imgs/raw_athlete_events.png)\n",
    "\n",
    "As can be seen, various information is recorded for each individual athlete in a given Olympic event, such as name (`Name`), gender (`Sex`), age (`Age`), edition of the Olympic Games (`Games `), the Olympic event (`Event`) among others. It should be noted that, for each athlete, there is an identifier (`ID`) that is unique to that athlete and invariable - it remains for all Olympic events in which that athlete has participated, regardless of the edition (year).\n",
    "\n",
    "Regarding Olympic events, there are individual events and team events - e.g. football and the 4x100m relay are team events. In team events, the data includes one record for each athlete on the team.\n",
    "\n",
    "### Population\n",
    "\n",
    "CSV file `population.csv` includes information about the population of each country for a given year.\n",
    "\n",
    "The csv file includes ISO3 code of the country (in lower case) (`geo`), the name of the country (`name`), the year (`time`) and the population (`population`).\n",
    "\n",
    "### Country codes\n",
    "\n",
    "CSV file `codes.csv` includes information about the different codes used for different countries.\n",
    "\n",
    "The csv file includes, among other, the name of the country (`Country`), ISO3 code (`ISO3`) and the national olympic code (`IOC`).\n",
    "\n",
    "\n",
    "The following code loads the datasets.\n"
   ]
  },
  {
   "cell_type": "code",
   "execution_count": 17,
   "id": "f7d46c2c",
   "metadata": {},
   "outputs": [
    {
     "name": "stdout",
     "output_type": "stream",
     "text": [
      "   ID                      Name Sex   Age  Height  Weight            Team   \n",
      "0   1                 A Dijiang   M  24.0   180.0    80.0           China  \\\n",
      "1   2                  A Lamusi   M  23.0   170.0    60.0           China   \n",
      "2   3       Gunnar Nielsen Aaby   M  24.0     NaN     NaN         Denmark   \n",
      "3   4      Edgar Lindenau Aabye   M  34.0     NaN     NaN  Denmark/Sweden   \n",
      "4   5  Christine Jacoba Aaftink   F  21.0   185.0    82.0     Netherlands   \n",
      "\n",
      "   NOC        Games  Year  Season       City          Sport   \n",
      "0  CHN  1992 Summer  1992  Summer  Barcelona     Basketball  \\\n",
      "1  CHN  2012 Summer  2012  Summer     London           Judo   \n",
      "2  DEN  1920 Summer  1920  Summer  Antwerpen       Football   \n",
      "3  DEN  1900 Summer  1900  Summer      Paris     Tug-Of-War   \n",
      "4  NED  1988 Winter  1988  Winter    Calgary  Speed Skating   \n",
      "\n",
      "                              Event Medal  \n",
      "0       Basketball Men's Basketball   NaN  \n",
      "1      Judo Men's Extra-Lightweight   NaN  \n",
      "2           Football Men's Football   NaN  \n",
      "3       Tug-Of-War Men's Tug-Of-War  Gold  \n",
      "4  Speed Skating Women's 500 metres   NaN  \n"
     ]
    }
   ],
   "source": [
    "dataFileName = os.path.join( \"data\", \"athlete_events.csv\")\n",
    "\n",
    "dataDF = pd.read_csv(dataFileName)\n",
    "\n",
    "print(dataDF.head(5))"
   ]
  },
  {
   "cell_type": "code",
   "execution_count": 18,
   "id": "201d0f29",
   "metadata": {},
   "outputs": [
    {
     "name": "stdout",
     "output_type": "stream",
     "text": [
      "          Country ISO2 ISO3   ISON  IOC FIPS Plates Domain\n",
      "0     Afghanistan   AF  AFG    4.0  AFG   AF    AFG    .af\n",
      "1   Åland Islands   AX  ALA  248.0  NaN  NaN     AX    .ax\n",
      "2         Albania   AL  ALB    8.0  ALB   AL     AL    .al\n",
      "3         Algeria   DZ  DZA   12.0  ALG   AG     DZ    .dz\n",
      "4  American Samoa   AS  ASM   16.0  ASA   AQ    USA    .as\n"
     ]
    }
   ],
   "source": [
    "codesFileName = os.path.join( \"data\", \"codes.csv\")\n",
    "\n",
    "codesDF = pd.read_csv(codesFileName)\n",
    "\n",
    "print(codesDF.head(5))"
   ]
  },
  {
   "cell_type": "code",
   "execution_count": 19,
   "id": "7bc08611-95ac-4ca3-b324-195e26a98f8d",
   "metadata": {},
   "outputs": [
    {
     "name": "stdout",
     "output_type": "stream",
     "text": [
      "   geo         name  time  Population\n",
      "0  afg  Afghanistan  1800   3280000.0\n",
      "1  afg  Afghanistan  1801   3280000.0\n",
      "2  afg  Afghanistan  1802   3280000.0\n",
      "3  afg  Afghanistan  1803   3280000.0\n",
      "4  afg  Afghanistan  1804   3280000.0\n"
     ]
    }
   ],
   "source": [
    "populationFileName = os.path.join( \"data\", \"population.csv\")\n",
    "\n",
    "populationDF = pd.read_csv(populationFileName)\n",
    "\n",
    "print(populationDF.head(5))"
   ]
  },
  {
   "cell_type": "markdown",
   "id": "cb83ef7a-5fb5-43b2-9d66-d9664783594d",
   "metadata": {},
   "source": [
    "For data on atheletes, there are some information missing. We can compute the number of entries missing using the following code.\n",
    "\n",
    "**NOTE:** the missing information on Medal is expected - it just means that the athlete has won no medal in the event."
   ]
  },
  {
   "cell_type": "code",
   "execution_count": 20,
   "id": "c2a7e189-a5c0-45fd-9bca-faf7784e26f9",
   "metadata": {},
   "outputs": [
    {
     "data": {
      "text/plain": [
       "ID             0\n",
       "Name           0\n",
       "Sex            0\n",
       "Age         9474\n",
       "Height     60171\n",
       "Weight     62875\n",
       "Team           0\n",
       "NOC            0\n",
       "Games          0\n",
       "Year           0\n",
       "Season         0\n",
       "City           0\n",
       "Sport          0\n",
       "Event          0\n",
       "Medal     231333\n",
       "dtype: int64"
      ]
     },
     "execution_count": 20,
     "metadata": {},
     "output_type": "execute_result"
    }
   ],
   "source": [
    "dataDF.isna().sum()"
   ]
  },
  {
   "cell_type": "markdown",
   "id": "4b040642-9826-4ae0-803e-41091e1916ab",
   "metadata": {},
   "source": [
    "**GENERAL NOTE:** In your computations, if there are rows for which needed information is missing, just drop the rows."
   ]
  },
  {
   "cell_type": "markdown",
   "id": "57e78d76",
   "metadata": {},
   "source": [
    "## Question 1 (7 points)\n",
    "\n",
    "In this question, we start by exploring the data available with simple queries. In your answers, you can use the data computed in the previous answers if and when useful.\n",
    "\n",
    "\n",
    "### **1.a)** How many athletes have participated in Summer Olympics and how many athlete participated in Winter Olympics?\n",
    "\n"
   ]
  },
  {
   "cell_type": "code",
   "execution_count": 21,
   "id": "3c449a64",
   "metadata": {},
   "outputs": [],
   "source": [
    "#Solve question here. Add a Markdown cell after this cell if you want to add some comment on you solution.\n",
    "\n"
   ]
  },
  {
   "cell_type": "markdown",
   "id": "a06774ac",
   "metadata": {},
   "source": [
    "### **1.b)** Who are the three youngest and oldest athletes that won a Gold medal in the Olympic games?\n",
    "\n",
    "Show the following information about each athelete: Name, Age, Team, Games, Sport and Event.\n"
   ]
  },
  {
   "cell_type": "code",
   "execution_count": 22,
   "id": "c546fd65",
   "metadata": {},
   "outputs": [],
   "source": [
    "#Solve question here. Add a Markdown cell after this cell if you want to add some comment on you solution.\n"
   ]
  },
  {
   "cell_type": "markdown",
   "id": "1d7f0200",
   "metadata": {},
   "source": [
    "### 1.c) Who are the top-10 athletes that have won more Gold medals in the Olympic Games?\n",
    "\n"
   ]
  },
  {
   "cell_type": "code",
   "execution_count": 23,
   "id": "a25abf0f",
   "metadata": {},
   "outputs": [],
   "source": [
    "#Solve question here. Add a Markdown cell after this cell if you want to add some comment on you solution.\n",
    "\n",
    "\n"
   ]
  },
  {
   "cell_type": "markdown",
   "id": "e5ce1ae2",
   "metadata": {},
   "source": [
    "### 1.d) For Summer Olympics, after 1950, who are the athletes that have won more medals in each edition?\n",
    "\n",
    "Show the following information: Year, Name of athlete, and number of medals."
   ]
  },
  {
   "cell_type": "code",
   "execution_count": 24,
   "id": "a6fd5f81",
   "metadata": {},
   "outputs": [],
   "source": [
    "#Solve question here. Add a Markdown cell after this cell if you want to add some comment on you solution.\n"
   ]
  },
  {
   "cell_type": "markdown",
   "id": "ef834e5d",
   "metadata": {},
   "source": [
    "### 1.e) For each athlete, compute the number of gold, silver and bronze medals she/he has won.\n",
    "\n",
    "**Suggestions:** two alternative suggestion are investigating pivot tables and custom defined aggregation functions.\n"
   ]
  },
  {
   "cell_type": "code",
   "execution_count": 25,
   "id": "bed033aa",
   "metadata": {},
   "outputs": [],
   "source": [
    "#Solve question here. Add a Markdown cell after this cell if you want to add some comment on you solution.\n",
    "\n",
    "\n"
   ]
  },
  {
   "cell_type": "markdown",
   "id": "284ccd8a-a3ab-439e-9223-f36d20230fd4",
   "metadata": {},
   "source": [
    "### 1.f) For the games of 2016, print the table of medals for each country.\n",
    "\n",
    "**NOTE:** for collective events (e.g. football, 4*100 meters), you should count only one medal for a given event.\n",
    "In the cell after the code, explain the rationale of the code to achieve this goal - your solution does not need to be perfect, but only an approximation of the real value.\n"
   ]
  },
  {
   "cell_type": "code",
   "execution_count": 26,
   "id": "596c49b6-80ec-435f-b97b-9d681749ccbc",
   "metadata": {},
   "outputs": [],
   "source": [
    "#Solve question here. Briefly justify your solution in the following markdown cell.\n"
   ]
  },
  {
   "cell_type": "markdown",
   "id": "c160a425-20ba-4609-b534-ba9343a2098d",
   "metadata": {},
   "source": [
    "**Rationale:** to be completed "
   ]
  },
  {
   "cell_type": "markdown",
   "id": "af0086f6-2db2-4a4f-8155-0562c5b5cd92",
   "metadata": {},
   "source": [
    "## Question 2 (2 points)\n",
    "\n",
    "It is normal that smaller countries conquer less medals, as their population is smaller.\n",
    "In this question, we try to put the number of medals into prespective, considering the population of countries.\n",
    "\n",
    "\n"
   ]
  },
  {
   "cell_type": "markdown",
   "id": "8505114e-6e46-4d37-8c3f-bee4ab4ae582",
   "metadata": {},
   "source": [
    "### 2.a) For the games of 2016, print the table of medals for each country per million inhabitants.\n",
    "\n"
   ]
  },
  {
   "cell_type": "code",
   "execution_count": 27,
   "id": "07f6e7e6-521e-4500-83b3-33b528f99bf5",
   "metadata": {},
   "outputs": [],
   "source": [
    "#Solve question here. Add a Markdown cell after this cell if you want to add some comment on you solution.\n"
   ]
  },
  {
   "cell_type": "markdown",
   "id": "be74d891",
   "metadata": {},
   "source": [
    "## Question 3 (4 points)\n",
    "\n",
    "This third question focus on processing the information on a time series for plotting it.\n"
   ]
  },
  {
   "cell_type": "markdown",
   "id": "31f4e0f9",
   "metadata": {},
   "source": [
    "### 3.a) Display the information about the number of athletes and medals wons by a country in the Olympic games over the years.\n",
    "\n",
    "Select a country that has a significative number of medals and plot the results.\n",
    "Discuss the rationale of your solution, including why you have decided to show the lines you are presenting and any processing you have done to the lines.\n"
   ]
  },
  {
   "cell_type": "code",
   "execution_count": 28,
   "id": "5bbd0447",
   "metadata": {},
   "outputs": [],
   "source": [
    "#Solve question here. Briefly justify your solution in the following markdown cell.\n",
    "\n"
   ]
  },
  {
   "cell_type": "markdown",
   "id": "c8433152",
   "metadata": {},
   "source": [
    "**Rationale:** to be completed"
   ]
  },
  {
   "cell_type": "markdown",
   "id": "01276dcc",
   "metadata": {},
   "source": [
    "### 3.b) Display trends of athletes and medals for a given country.\n",
    "\n",
    "There might be some editions that are an outlier in the number of athletes or medals a given country wins. Instead of plotting the actual values, plot trend lines.\n",
    "\n"
   ]
  },
  {
   "cell_type": "code",
   "execution_count": 29,
   "id": "4f043c32",
   "metadata": {},
   "outputs": [],
   "source": [
    "#Solve question here. Briefly justy you solution in the following markdown cell.\n",
    "\n"
   ]
  },
  {
   "cell_type": "markdown",
   "id": "efe5d2c9",
   "metadata": {},
   "source": [
    "**Rationale:** to be completed"
   ]
  },
  {
   "cell_type": "markdown",
   "id": "4ec118ad",
   "metadata": {},
   "source": [
    "## Question 4 (5 points)\n",
    "\n",
    "This third question focus on understanding the relations between elements.\n",
    "\n",
    "\n",
    "### 4.a) Is there any relation between the medals won by different countries?\n",
    "\n",
    "Study the relation in the evolution of medals won by different countries over the years.\n",
    "\n",
    "Select four countries with a significative number of medals.\n",
    "\n",
    "Note: Some useful\n",
    "* Drop columns - [https://pandas.pydata.org/docs/reference/api/pandas.DataFrame.drop.html](https://pandas.pydata.org/docs/reference/api/pandas.DataFrame.drop.html)\n",
    "* Rename columns - [https://pandas.pydata.org/docs/reference/api/pandas.DataFrame.rename.html](https://pandas.pydata.org/docs/reference/api/pandas.DataFrame.rename.html)\n"
   ]
  },
  {
   "cell_type": "code",
   "execution_count": 30,
   "id": "14690231",
   "metadata": {
    "scrolled": true,
    "tags": []
   },
   "outputs": [],
   "source": [
    "#Solve question here. Briefly justify your solution in the following markdown cell.\n",
    "\n"
   ]
  },
  {
   "cell_type": "markdown",
   "id": "ab5cd6ab",
   "metadata": {},
   "source": [
    "**Present an interpretation of the results here:** to be completed"
   ]
  },
  {
   "cell_type": "markdown",
   "id": "2cc26b25",
   "metadata": {},
   "source": [
    "### 4.b) Extended analysis\n",
    "\n",
    "As medals are competitive, one could expect that the fact that some countries starts winning more medals leads other countries to win less medals. But this would only be true if the total number of medals would have remained constant.\n",
    "\n",
    "Suggest an alternative analysis and implement it.\n",
    "\n"
   ]
  },
  {
   "cell_type": "markdown",
   "id": "91fd2234-157d-4009-af7e-acf08c3c2a8c",
   "metadata": {},
   "source": [
    "**Analysis proposed:**\n",
    "\n",
    "\n",
    "**Rationale of implementation:**"
   ]
  },
  {
   "cell_type": "code",
   "execution_count": 31,
   "id": "6b3f90b4",
   "metadata": {
    "scrolled": true
   },
   "outputs": [],
   "source": [
    "#Solve question here. Briefly justify your solution in the following markdown cell.\n",
    "\n"
   ]
  },
  {
   "cell_type": "markdown",
   "id": "4b68ed0f",
   "metadata": {},
   "source": [
    "**Rationale and comments:**"
   ]
  },
  {
   "cell_type": "markdown",
   "id": "9463e587",
   "metadata": {},
   "source": [
    "## Question 5 (2 points)\n",
    "\n",
    "This group focus on implementation using Spark SQL."
   ]
  },
  {
   "cell_type": "markdown",
   "id": "a14830b1",
   "metadata": {},
   "source": [
    "### 5.a) Reimplement question 1.e in Spark SQL.\n"
   ]
  },
  {
   "cell_type": "code",
   "execution_count": 32,
   "id": "383a8a0f",
   "metadata": {},
   "outputs": [],
   "source": [
    "#Solve question here. Add a Markdown cell after this cell if you want to add some comment on you solution.\n"
   ]
  },
  {
   "cell_type": "markdown",
   "id": "d1837cc4-6c30-4bb0-b1ba-34233c1f9f0b",
   "metadata": {},
   "source": [
    "### 5.a) Reimplement question 1.d in Spark SQL.\n"
   ]
  },
  {
   "cell_type": "code",
   "execution_count": 33,
   "id": "5406a645-aed9-4b98-9497-cf86859c8542",
   "metadata": {},
   "outputs": [],
   "source": [
    "#Solve question here. Add a Markdown cell after this cell if you want to add some comment on you solution.\n"
   ]
  }
 ],
 "metadata": {
  "kernelspec": {
   "display_name": "Python 3 (ipykernel)",
   "language": "python",
   "name": "python3"
  },
  "language_info": {
   "codemirror_mode": {
    "name": "ipython",
    "version": 3
   },
   "file_extension": ".py",
   "mimetype": "text/x-python",
   "name": "python",
   "nbconvert_exporter": "python",
   "pygments_lexer": "ipython3",
   "version": "3.11.4"
  }
 },
 "nbformat": 4,
 "nbformat_minor": 5
}
